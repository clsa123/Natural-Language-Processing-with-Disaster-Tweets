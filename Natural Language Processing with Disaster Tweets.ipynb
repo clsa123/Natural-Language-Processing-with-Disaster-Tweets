{
 "cells": [
  {
   "cell_type": "markdown",
   "id": "e91cb779",
   "metadata": {},
   "source": [
    "# Natural Language Processing with Disaster Tweets\n",
    "\n",
    "The goal of this project is to analyze tweets and use NLP technique to build a machine learning model and predict which tweets are talking about real disaster and which one are not\n",
    "\n",
    "Data (link: https://www.kaggle.com/c/nlp-getting-started/overview)"
   ]
  },
  {
   "cell_type": "markdown",
   "id": "e14c5bec",
   "metadata": {},
   "source": [
    "## 1. Data Preprocessing"
   ]
  },
  {
   "cell_type": "markdown",
   "id": "b9b1fe3f",
   "metadata": {},
   "source": [
    "### 1. Load Data"
   ]
  },
  {
   "cell_type": "code",
   "execution_count": 1,
   "id": "11e15607",
   "metadata": {},
   "outputs": [
    {
     "name": "stderr",
     "output_type": "stream",
     "text": [
      "2023-05-01 15:07:57.824285: I tensorflow/core/platform/cpu_feature_guard.cc:182] This TensorFlow binary is optimized to use available CPU instructions in performance-critical operations.\n",
      "To enable the following instructions: AVX2 FMA, in other operations, rebuild TensorFlow with the appropriate compiler flags.\n"
     ]
    },
    {
     "data": {
      "text/plain": [
       "True"
      ]
     },
     "execution_count": 1,
     "metadata": {},
     "output_type": "execute_result"
    }
   ],
   "source": [
    "import pandas as pd\n",
    "import numpy as np\n",
    "import seaborn as sns\n",
    "import nltk\n",
    "import re\n",
    "from nltk.corpus import stopwords\n",
    "from nltk.tokenize import word_tokenize\n",
    "from nltk.stem import WordNetLemmatizer\n",
    "from nltk.probability import FreqDist\n",
    "from keras.models import Sequential\n",
    "from keras.layers import Dense, Embedding, LSTM,Dropout\n",
    "from keras.preprocessing.text import Tokenizer\n",
    "from keras_preprocessing.sequence import pad_sequences\n",
    "from sklearn.model_selection import train_test_split\n",
    "import matplotlib.pyplot as plt\n",
    "%matplotlib inline\n",
    "\n",
    "nltk.download('stopwords',quiet=True)\n",
    "nltk.download('punkt',quiet=True)\n",
    "nltk.download('wordnet',quiet=True)\n",
    "nltk.download('omw-1.4',quiet=True)"
   ]
  },
  {
   "cell_type": "code",
   "execution_count": 2,
   "id": "452e560f",
   "metadata": {},
   "outputs": [],
   "source": [
    "train = pd.read_csv('./nlp-getting-started/train.csv')\n",
    "test = pd.read_csv('./nlp-getting-started/test.csv')"
   ]
  },
  {
   "cell_type": "code",
   "execution_count": 3,
   "id": "261cc51a",
   "metadata": {},
   "outputs": [
    {
     "name": "stdout",
     "output_type": "stream",
     "text": [
      "<class 'pandas.core.frame.DataFrame'>\n",
      "RangeIndex: 7613 entries, 0 to 7612\n",
      "Data columns (total 5 columns):\n",
      " #   Column    Non-Null Count  Dtype \n",
      "---  ------    --------------  ----- \n",
      " 0   id        7613 non-null   int64 \n",
      " 1   keyword   7552 non-null   object\n",
      " 2   location  5080 non-null   object\n",
      " 3   text      7613 non-null   object\n",
      " 4   target    7613 non-null   int64 \n",
      "dtypes: int64(2), object(3)\n",
      "memory usage: 297.5+ KB\n"
     ]
    }
   ],
   "source": [
    "train.info()"
   ]
  },
  {
   "cell_type": "code",
   "execution_count": 4,
   "id": "bcd887f3",
   "metadata": {},
   "outputs": [
    {
     "name": "stdout",
     "output_type": "stream",
     "text": [
      "<class 'pandas.core.frame.DataFrame'>\n",
      "RangeIndex: 3263 entries, 0 to 3262\n",
      "Data columns (total 4 columns):\n",
      " #   Column    Non-Null Count  Dtype \n",
      "---  ------    --------------  ----- \n",
      " 0   id        3263 non-null   int64 \n",
      " 1   keyword   3237 non-null   object\n",
      " 2   location  2158 non-null   object\n",
      " 3   text      3263 non-null   object\n",
      "dtypes: int64(1), object(3)\n",
      "memory usage: 102.1+ KB\n"
     ]
    }
   ],
   "source": [
    "test.info()"
   ]
  },
  {
   "cell_type": "markdown",
   "id": "464d3d8f",
   "metadata": {},
   "source": [
    "### 1.2 Check Missing Value"
   ]
  },
  {
   "cell_type": "code",
   "execution_count": 5,
   "id": "a86b2d42",
   "metadata": {},
   "outputs": [
    {
     "data": {
      "text/plain": [
       "id             0\n",
       "keyword       61\n",
       "location    2533\n",
       "text           0\n",
       "target         0\n",
       "dtype: int64"
      ]
     },
     "execution_count": 5,
     "metadata": {},
     "output_type": "execute_result"
    }
   ],
   "source": [
    "train.isnull().sum()"
   ]
  },
  {
   "cell_type": "code",
   "execution_count": 6,
   "id": "8d1d468a",
   "metadata": {},
   "outputs": [
    {
     "data": {
      "text/plain": [
       "id             0\n",
       "keyword       26\n",
       "location    1105\n",
       "text           0\n",
       "dtype: int64"
      ]
     },
     "execution_count": 6,
     "metadata": {},
     "output_type": "execute_result"
    }
   ],
   "source": [
    "test.isnull().sum()"
   ]
  },
  {
   "cell_type": "code",
   "execution_count": 7,
   "id": "e3b77a00",
   "metadata": {},
   "outputs": [
    {
     "data": {
      "text/plain": [
       "id           0.000000\n",
       "keyword      0.801261\n",
       "location    33.272035\n",
       "text         0.000000\n",
       "target       0.000000\n",
       "dtype: float64"
      ]
     },
     "execution_count": 7,
     "metadata": {},
     "output_type": "execute_result"
    }
   ],
   "source": [
    "# Check missing value percentage\n",
    "train.isnull().mean() * 100"
   ]
  },
  {
   "cell_type": "code",
   "execution_count": 8,
   "id": "9e644fff",
   "metadata": {},
   "outputs": [
    {
     "data": {
      "text/plain": [
       "id           0.000000\n",
       "keyword      0.796813\n",
       "location    33.864542\n",
       "text         0.000000\n",
       "dtype: float64"
      ]
     },
     "execution_count": 8,
     "metadata": {},
     "output_type": "execute_result"
    }
   ],
   "source": [
    "test.isnull().mean() * 100"
   ]
  },
  {
   "cell_type": "markdown",
   "id": "3d2bc7b5",
   "metadata": {},
   "source": [
    "### 1.3 Deal With Missing Value"
   ]
  },
  {
   "cell_type": "code",
   "execution_count": 9,
   "id": "e03ee2ff",
   "metadata": {},
   "outputs": [],
   "source": [
    "# Since keyword and location is likely extract from text, there are redundant as we only need text,\n",
    "# we will drop these columns when we train the model later on, we don't need to deal with missing values in this case"
   ]
  },
  {
   "cell_type": "markdown",
   "id": "201344f6",
   "metadata": {},
   "source": [
    "## 2. Data Visualization"
   ]
  },
  {
   "cell_type": "markdown",
   "id": "97d42927",
   "metadata": {},
   "source": [
    "### 2.1 Histogram of Target"
   ]
  },
  {
   "cell_type": "code",
   "execution_count": 10,
   "id": "58c210ed",
   "metadata": {},
   "outputs": [
    {
     "data": {
      "text/plain": [
       "<AxesSubplot:xlabel='target', ylabel='Percent'>"
      ]
     },
     "execution_count": 10,
     "metadata": {},
     "output_type": "execute_result"
    },
    {
     "data": {
      "image/png": "[encoded data removed]",
      "text/plain": [
       "<Figure size 640x480 with 1 Axes>"
      ]
     },
     "metadata": {},
     "output_type": "display_data"
    }
   ],
   "source": [
    "sns.histplot(train['target'].astype(str),stat='percent',color=\"purple\")"
   ]
  },
  {
   "cell_type": "markdown",
   "id": "8e8b1860",
   "metadata": {},
   "source": [
    "Based on the plot, target of each class seems balanced"
   ]
  },
  {
   "cell_type": "markdown",
   "id": "636d870d",
   "metadata": {},
   "source": [
    "### 2.2 Top 10 Location with Most Tweets"
   ]
  },
  {
   "cell_type": "code",
   "execution_count": 11,
   "id": "2ebd81ff",
   "metadata": {},
   "outputs": [
    {
     "data": {
      "image/png": "[encoded data removed]",
      "text/plain": [
       "<Figure size 640x480 with 1 Axes>"
      ]
     },
     "metadata": {},
     "output_type": "display_data"
    }
   ],
   "source": [
    "text_counts = train.groupby('location').count().sort_values(by='text', ascending=False).head(10)\n",
    "\n",
    "sns.set_style('whitegrid')\n",
    "sns.barplot(x=text_counts.index, y=text_counts['text'], palette='rocket')\n",
    "for i, v in enumerate(text_counts['text']):\n",
    "    plt.text(i, v + 0.5, str(v), color='black', ha='center')\n",
    "plt.xticks(rotation=45, ha='right')\n",
    "plt.ylabel('Number of Tweets')\n",
    "plt.title('Top 10 Location with Most Tweets')\n",
    "plt.show()"
   ]
  },
  {
   "cell_type": "markdown",
   "id": "23bf0f9d",
   "metadata": {},
   "source": [
    "Based on the plot, we can see that location column is not well cleaned, but we can still tell most tweets come from US"
   ]
  },
  {
   "cell_type": "markdown",
   "id": "ac182dec",
   "metadata": {},
   "source": [
    "### 2.3 Top 10 Keywords"
   ]
  },
  {
   "cell_type": "code",
   "execution_count": 12,
   "id": "76def09a",
   "metadata": {},
   "outputs": [
    {
     "data": {
      "image/png": "[encoded data removed]",
      "text/plain": [
       "<Figure size 640x480 with 1 Axes>"
      ]
     },
     "metadata": {},
     "output_type": "display_data"
    }
   ],
   "source": [
    "kw_counts = train.groupby('keyword').count().sort_values(by='text', ascending=False).head(10)\n",
    "\n",
    "sns.barplot(x=kw_counts.index, y=kw_counts['text'], palette='mako')\n",
    "for i, v in enumerate(kw_counts['text']):\n",
    "    plt.text(i, v + 0.5, str(v), color='black', ha='center')\n",
    "plt.xticks(rotation=45, ha='right')\n",
    "plt.ylabel('Number of Tweets')\n",
    "plt.title('Top 10 Keywords')\n",
    "plt.show()"
   ]
  },
  {
   "cell_type": "markdown",
   "id": "f5f298ae",
   "metadata": {},
   "source": [
    "Based on the plot, we can see that top keywords are all related to disaster"
   ]
  },
  {
   "cell_type": "markdown",
   "id": "745b2fb6",
   "metadata": {},
   "source": [
    "## 3. Model Architecture"
   ]
  },
  {
   "cell_type": "markdown",
   "id": "8780326c",
   "metadata": {},
   "source": [
    "### 3.1 Remove Redundant Columns"
   ]
  },
  {
   "cell_type": "code",
   "execution_count": 13,
   "id": "7a0b0484",
   "metadata": {},
   "outputs": [],
   "source": [
    "new_train = train.drop(columns=['id','keyword','location'])\n",
    "new_test = test.drop(columns=['id','keyword','location',])"
   ]
  },
  {
   "cell_type": "markdown",
   "id": "646b463d",
   "metadata": {},
   "source": [
    "### 3.2 Text Preprocessing"
   ]
  },
  {
   "cell_type": "code",
   "execution_count": 14,
   "id": "78f5ed99",
   "metadata": {},
   "outputs": [],
   "source": [
    "new_train['text'] = new_train['text'].astype(str)\n",
    "new_test['text'] = new_test['text'].astype(str)"
   ]
  },
  {
   "cell_type": "code",
   "execution_count": 15,
   "id": "03b7b9e9",
   "metadata": {},
   "outputs": [],
   "source": [
    "# Custom function with nltk built in function to clean up text\n",
    "def clean_text(text):\n",
    "    # remove punctuation\n",
    "    text = re.sub(r'[^\\w\\s]', '', text)\n",
    "    # tokenized the text\n",
    "    tokens = word_tokenize(text)\n",
    "    stop_words = set(stopwords.words('english'))\n",
    "    # remove stop words\n",
    "    filtered_tokens = [token for token in tokens if token.lower() not in stop_words]\n",
    "    # lemmatized the token\n",
    "    lemmatizer = WordNetLemmatizer()\n",
    "    lemmatized_tokens = [lemmatizer.lemmatize(token) for token in filtered_tokens]\n",
    "    cleaned_text = \" \".join(lemmatized_tokens)\n",
    "    return cleaned_text"
   ]
  },
  {
   "cell_type": "code",
   "execution_count": 16,
   "id": "a85d0f29",
   "metadata": {},
   "outputs": [],
   "source": [
    "new_train['text'] = new_train['text'].apply(clean_text)\n",
    "new_test['text'] = new_test['text'].apply(clean_text)"
   ]
  },
  {
   "cell_type": "code",
   "execution_count": 17,
   "id": "6e617ef0",
   "metadata": {},
   "outputs": [],
   "source": [
    "# Get the frequency of each word\n",
    "all_words = []\n",
    "for i in new_train['text']:\n",
    "    for j in i.split():\n",
    "        all_words.append(j)\n",
    "freq_dist = FreqDist(all_words)"
   ]
  },
  {
   "cell_type": "markdown",
   "id": "4b96f8c4",
   "metadata": {},
   "source": [
    "### 3.3 Top 10 Common Words"
   ]
  },
  {
   "cell_type": "code",
   "execution_count": 18,
   "id": "d7911a54",
   "metadata": {},
   "outputs": [
    {
     "data": {
      "text/plain": [
       "<AxesSubplot:xlabel='Frequency', ylabel='Word'>"
      ]
     },
     "execution_count": 18,
     "metadata": {},
     "output_type": "execute_result"
    },
    {
     "data": {
      "image/png": "[encoded data removed]",
      "text/plain": [
       "<Figure size 640x480 with 1 Axes>"
      ]
     },
     "metadata": {},
     "output_type": "display_data"
    }
   ],
   "source": [
    "freq_df = pd.DataFrame(freq_dist.most_common(10), columns=['Word', 'Frequency'])\n",
    "sns.barplot(x=\"Frequency\", y=\"Word\", data=freq_df,palette='viridis')"
   ]
  },
  {
   "cell_type": "markdown",
   "id": "0ac32cfa",
   "metadata": {},
   "source": [
    "Can't tell much from the plot as these are just most common words that have been used"
   ]
  },
  {
   "cell_type": "markdown",
   "id": "4567435f",
   "metadata": {},
   "source": [
    "### 3.4 Convert Text To Matrix"
   ]
  },
  {
   "cell_type": "markdown",
   "id": "2c8605fe",
   "metadata": {},
   "source": [
    "There are many methods to process text to matrix form such as CountVectorizer,TfidfVectorizer,Word Embeddings etc\n",
    "In this project, we use the Tokenizer class and pad_sequences function in keras to convert a list of texts to a matrix of fixed length sequences"
   ]
  },
  {
   "cell_type": "code",
   "execution_count": 19,
   "id": "cc024b86",
   "metadata": {},
   "outputs": [],
   "source": [
    "X_train, X_val, y_train, y_val = train_test_split(new_train['text'], new_train['target'],\n",
    "                                                  test_size=0.2, random_state=9)\n",
    "tokenizer = Tokenizer()\n",
    "tokenizer.fit_on_texts(new_train['text'])\n",
    "X_train_seq = tokenizer.texts_to_sequences(X_train)\n",
    "X_val_seq = tokenizer.texts_to_sequences(X_val)\n",
    "X_test_seq = tokenizer.texts_to_sequences(new_test['text'])\n",
    "\n",
    "max_length = 111\n",
    "X_train = pad_sequences(X_train_seq,maxlen=max_length)\n",
    "X_val = pad_sequences(X_val_seq,maxlen=max_length)\n",
    "X_test = pad_sequences(X_test_seq,maxlen=max_length)"
   ]
  },
  {
   "cell_type": "markdown",
   "id": "619f538d",
   "metadata": {},
   "source": [
    "### 3.5 Build LSTM  model"
   ]
  },
  {
   "cell_type": "code",
   "execution_count": 20,
   "id": "a6ce7003",
   "metadata": {},
   "outputs": [],
   "source": [
    "model = Sequential()\n",
    "model.add(Embedding(input_dim=30000,output_dim=32, input_length=111))\n",
    "model.add(LSTM(units=32, dropout=0.2,recurrent_dropout=0.2))\n",
    "model.add(Dense(units=1, activation='sigmoid'))\n",
    "\n",
    "model.compile(loss='binary_crossentropy', optimizer='adam', metrics=['accuracy'])"
   ]
  },
  {
   "cell_type": "markdown",
   "id": "9aac2ec9",
   "metadata": {},
   "source": [
    "## 4. Modeling And Evaluation"
   ]
  },
  {
   "cell_type": "markdown",
   "id": "a8d1e814",
   "metadata": {},
   "source": [
    "### 4.1 Train Model"
   ]
  },
  {
   "cell_type": "code",
   "execution_count": 21,
   "id": "eebf460b",
   "metadata": {},
   "outputs": [
    {
     "name": "stdout",
     "output_type": "stream",
     "text": [
      "Epoch 1/5\n",
      "191/191 [==============================] - 26s 117ms/step - loss: 0.5907 - accuracy: 0.6803 - val_loss: 0.4508 - val_accuracy: 0.7997\n",
      "Epoch 2/5\n",
      "191/191 [==============================] - 22s 118ms/step - loss: 0.3085 - accuracy: 0.8788 - val_loss: 0.4632 - val_accuracy: 0.7866\n",
      "Epoch 3/5\n",
      "191/191 [==============================] - 21s 112ms/step - loss: 0.1603 - accuracy: 0.9455 - val_loss: 0.5445 - val_accuracy: 0.7722\n",
      "Epoch 4/5\n",
      "191/191 [==============================] - 21s 109ms/step - loss: 0.0893 - accuracy: 0.9700 - val_loss: 0.6616 - val_accuracy: 0.7676\n",
      "Epoch 5/5\n",
      "191/191 [==============================] - 21s 109ms/step - loss: 0.0503 - accuracy: 0.9833 - val_loss: 0.6975 - val_accuracy: 0.7708\n"
     ]
    },
    {
     "data": {
      "text/plain": [
       "<keras.callbacks.History at 0x7fe57d6df940>"
      ]
     },
     "execution_count": 21,
     "metadata": {},
     "output_type": "execute_result"
    }
   ],
   "source": [
    "model.fit(X_train, y_train, batch_size=32, epochs=5, validation_data=(X_val, y_val))"
   ]
  },
  {
   "cell_type": "markdown",
   "id": "bbcf9d37",
   "metadata": {},
   "source": [
    "### 4.2 Evaluate Model"
   ]
  },
  {
   "cell_type": "code",
   "execution_count": 22,
   "id": "4e33b5ea",
   "metadata": {},
   "outputs": [
    {
     "name": "stdout",
     "output_type": "stream",
     "text": [
      "48/48 [==============================] - 1s 13ms/step - loss: 0.6975 - accuracy: 0.7708\n",
      "Test loss: 0.6974847316741943\n",
      "Test accuracy: 0.7708470225334167\n"
     ]
    }
   ],
   "source": [
    "loss, acc = model.evaluate(X_val, y_val)\n",
    "print(f'Test loss: {loss}')\n",
    "print(f'Test accuracy: {acc}')"
   ]
  },
  {
   "cell_type": "markdown",
   "id": "9ec2526d",
   "metadata": {},
   "source": [
    "### 4.3 Hyperparameter Tuning\n",
    "\n",
    "1. LSTM units determines the capacity of the model to capture long-term dependencies in the input sequence. A higher number of LSTM units can lead to better performance.\n",
    "2. Dropout is a regularization technique that randomly drops out a fraction of the LSTM units during training. A higher dropout rate can lead to better generalization performance"
   ]
  },
  {
   "cell_type": "code",
   "execution_count": 23,
   "id": "0e9d77f5",
   "metadata": {},
   "outputs": [],
   "source": [
    "# Try Higher lstm_units and drop out rate\n",
    "new_model = Sequential()\n",
    "new_model.add(Embedding(input_dim=30000,output_dim=32, input_length=111))\n",
    "new_model.add(LSTM(units=128, dropout=0.5,recurrent_dropout=0.5))\n",
    "new_model.add(Dense(units=1, activation='sigmoid'))\n",
    "\n",
    "new_model.compile(loss='binary_crossentropy', optimizer='adam', metrics=['accuracy'])"
   ]
  },
  {
   "cell_type": "code",
   "execution_count": 24,
   "id": "5bfdebd1",
   "metadata": {},
   "outputs": [
    {
     "name": "stdout",
     "output_type": "stream",
     "text": [
      "Epoch 1/5\n",
      "191/191 [==============================] - 46s 223ms/step - loss: 0.5872 - accuracy: 0.6852 - val_loss: 0.4724 - val_accuracy: 0.7846\n",
      "Epoch 2/5\n",
      "191/191 [==============================] - 41s 217ms/step - loss: 0.3315 - accuracy: 0.8655 - val_loss: 0.4585 - val_accuracy: 0.7905\n",
      "Epoch 3/5\n",
      "191/191 [==============================] - 41s 213ms/step - loss: 0.1961 - accuracy: 0.9251 - val_loss: 0.5163 - val_accuracy: 0.7814\n",
      "Epoch 4/5\n",
      "191/191 [==============================] - 42s 218ms/step - loss: 0.1186 - accuracy: 0.9562 - val_loss: 0.5914 - val_accuracy: 0.7603\n",
      "Epoch 5/5\n",
      "191/191 [==============================] - 42s 220ms/step - loss: 0.0795 - accuracy: 0.9722 - val_loss: 0.6816 - val_accuracy: 0.7768\n"
     ]
    },
    {
     "data": {
      "text/plain": [
       "<keras.callbacks.History at 0x7fe563661520>"
      ]
     },
     "execution_count": 24,
     "metadata": {},
     "output_type": "execute_result"
    }
   ],
   "source": [
    "new_model.fit(X_train, y_train, batch_size=32, epochs=5, validation_data=(X_val, y_val))"
   ]
  },
  {
   "cell_type": "code",
   "execution_count": 25,
   "id": "fd6f2599",
   "metadata": {},
   "outputs": [
    {
     "name": "stdout",
     "output_type": "stream",
     "text": [
      "48/48 [==============================] - 2s 32ms/step - loss: 0.6816 - accuracy: 0.7768\n",
      "Test loss: 0.6816050410270691\n",
      "Test accuracy: 0.7767564058303833\n"
     ]
    }
   ],
   "source": [
    "loss, acc = new_model.evaluate(X_val, y_val)\n",
    "print(f'Test loss: {loss}')\n",
    "print(f'Test accuracy: {acc}')"
   ]
  },
  {
   "cell_type": "markdown",
   "id": "4b7528a3",
   "metadata": {},
   "source": [
    "### 4.4 Pick Best Model And Predict On Test"
   ]
  },
  {
   "cell_type": "code",
   "execution_count": 26,
   "id": "e6cb472c",
   "metadata": {},
   "outputs": [
    {
     "name": "stdout",
     "output_type": "stream",
     "text": [
      "102/102 [==============================] - 3s 30ms/step\n"
     ]
    }
   ],
   "source": [
    "y_pred = new_model.predict(X_test)\n",
    "my_label = np.where(y_pred > 0.5,1,0)\n",
    "final_df = test\n",
    "final_df['target'] = my_label\n",
    "final_df = final_df[['id','target']]\n",
    "final_df.to_csv('final_model.csv',index=False)"
   ]
  },
  {
   "cell_type": "markdown",
   "id": "0617a786",
   "metadata": {},
   "source": [
    "## 5. Conclusions"
   ]
  },
  {
   "cell_type": "markdown",
   "id": "28b26591",
   "metadata": {},
   "source": [
    "Overall, the model after hyperparameter tuning gives a slightly better score. This project is a good practice to get familiar with NLP, how to process text data and use other sequential deep learning model to train and predict. We can try other RNN models and do more hyperparameter tuning in the future to potential improve the model performace"
   ]
  },
  {
   "cell_type": "code",
   "execution_count": null,
   "id": "d681ac7d",
   "metadata": {},
   "outputs": [],
   "source": []
  }
 ],
 "metadata": {
  "kernelspec": {
   "display_name": "Python 3 (ipykernel)",
   "language": "python",
   "name": "python3"
  },
  "language_info": {
   "codemirror_mode": {
    "name": "ipython",
    "version": 3
   },
   "file_extension": ".py",
   "mimetype": "text/x-python",
   "name": "python",
   "nbconvert_exporter": "python",
   "pygments_lexer": "ipython3",
   "version": "3.9.13"
  }
 },
 "nbformat": 4,
 "nbformat_minor": 5
}
